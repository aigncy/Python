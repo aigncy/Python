{
 "metadata": {
  "name": "",
  "signature": "sha256:8e639d91b4f13549ab593cb06765470e222f9165ed0eab0783f4b2a9aec707d4"
 },
 "nbformat": 3,
 "nbformat_minor": 0,
 "worksheets": [
  {
   "cells": [
    {
     "cell_type": "code",
     "collapsed": false,
     "input": [
      "print(__doc__)\n",
      "\n",
      "# Author: Alexandre Gramfort <alexandre.gramfort@inria.fr>\n",
      "# License: BSD 3 clause\n",
      "\n",
      "import matplotlib.pyplot as plt\n",
      "import numpy as np\n",
      "\n",
      "from sklearn.linear_model import LogisticRegression\n",
      "from sklearn.svm import SVC\n",
      "from sklearn import datasets\n",
      "\n",
      "iris = datasets.load_iris()\n",
      "X = iris.data[:, 0:2]  # we only take the first two features for visualization\n",
      "y = iris.target\n",
      "\n",
      "n_features = X.shape[1]\n",
      "\n",
      "C = 1.0\n",
      "\n",
      "# Create different classifiers. The logistic regression cannot do\n",
      "# multiclass out of the box.\n",
      "classifiers = {'L1 logistic': LogisticRegression(C=C, penalty='l1'),\n",
      "               'L2 logistic': LogisticRegression(C=C, penalty='l2'),\n",
      "               'Linear SVC': SVC(kernel='linear', C=C, probability=True,\n",
      "                                 random_state=0)}\n",
      "\n",
      "n_classifiers = len(classifiers)\n",
      "\n",
      "plt.figure(figsize=(3 * 2, n_classifiers * 2))\n",
      "plt.subplots_adjust(bottom=.2, top=.95)\n",
      "\n",
      "for index, (name, classifier) in enumerate(classifiers.items()):\n",
      "    classifier.fit(X, y)\n",
      "\n",
      "    y_pred = classifier.predict(X)\n",
      "    classif_rate = np.mean(y_pred.ravel() == y.ravel()) * 100\n",
      "    print(\"classif_rate for %s : %f \" % (name, classif_rate))\n",
      "\n",
      "    # View probabilities=\n",
      "    xx = np.linspace(3, 9, 100)\n",
      "    yy = np.linspace(1, 5, 100).T\n",
      "    xx, yy = np.meshgrid(xx, yy)\n",
      "    Xfull = np.c_[xx.ravel(), yy.ravel()]\n",
      "    probas = classifier.predict_proba(Xfull)\n",
      "    n_classes = np.unique(y_pred).size\n",
      "    for k in range(n_classes):\n",
      "        plt.subplot(n_classifiers, n_classes, index * n_classes + k + 1)\n",
      "        plt.title(\"Class %d\" % k)\n",
      "        if k == 0:\n",
      "            plt.ylabel(name)\n",
      "        imshow_handle = plt.imshow(probas[:, k].reshape((100, 100)),\n",
      "                                   extent=(3, 9, 1, 5), origin='lower')\n",
      "        plt.xticks(())\n",
      "        plt.yticks(())\n",
      "        idx = (y_pred == k)\n",
      "        if idx.any():\n",
      "            plt.scatter(X[idx, 0], X[idx, 1], marker='o', c='k')\n",
      "\n",
      "ax = plt.axes([0.15, 0.04, 0.7, 0.05])\n",
      "plt.title(\"Probability\")\n",
      "plt.colorbar(imshow_handle, cax=ax, orientation='horizontal')\n",
      "\n",
      "plt.show()"
     ],
     "language": "python",
     "metadata": {},
     "outputs": [
      {
       "output_type": "stream",
       "stream": "stdout",
       "text": [
        "Automatically created module for IPython interactive environment\n",
        "classif_rate for Linear SVC : 82.000000 "
       ]
      },
      {
       "output_type": "stream",
       "stream": "stdout",
       "text": [
        "\n",
        "classif_rate for L1 logistic : 79.333333 "
       ]
      },
      {
       "output_type": "stream",
       "stream": "stdout",
       "text": [
        "\n",
        "classif_rate for L2 logistic : 76.666667 "
       ]
      },
      {
       "output_type": "stream",
       "stream": "stdout",
       "text": [
        "\n"
       ]
      }
     ],
     "prompt_number": 1
    },
    {
     "cell_type": "code",
     "collapsed": false,
     "input": [],
     "language": "python",
     "metadata": {},
     "outputs": []
    }
   ],
   "metadata": {}
  }
 ]
}