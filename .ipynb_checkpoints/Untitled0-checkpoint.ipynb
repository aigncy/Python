{
 "metadata": {
  "name": "",
  "signature": "sha256:ba7ab22ab353662d85ce6197c953f19e32fc7a6d6478ed9838e34762215d2f34"
 },
 "nbformat": 3,
 "nbformat_minor": 0,
 "worksheets": [
  {
   "cells": [
    {
     "cell_type": "code",
     "collapsed": false,
     "input": [
      "print(__doc__)\n",
      "\n",
      "# Author: Nelle Varoquaux <nelle.varoquaux@gmail.com>\n",
      "#         Alexandre Gramfort <alexandre.gramfort@inria.fr>\n",
      "# Licence: BSD\n",
      "\n",
      "import numpy as np\n",
      "import matplotlib.pyplot as plt\n",
      "from matplotlib.collections import LineCollection\n",
      "\n",
      "from sklearn.linear_model import LinearRegression\n",
      "from sklearn.isotonic import IsotonicRegression\n",
      "from sklearn.utils import check_random_state\n",
      "\n",
      "n = 100\n",
      "x = np.arange(n)\n",
      "rs = check_random_state(0)\n",
      "y = rs.randint(-50, 50, size=(n,)) + 50. * np.log(1 + np.arange(n))\n",
      "\n",
      "###############################################################################\n",
      "# Fit IsotonicRegression and LinearRegression models\n",
      "\n",
      "ir = IsotonicRegression()\n",
      "\n",
      "y_ = ir.fit_transform(x, y)\n",
      "\n",
      "lr = LinearRegression()\n",
      "lr.fit(x[:, np.newaxis], y)  # x needs to be 2d for LinearRegression\n",
      "\n",
      "###############################################################################\n",
      "# plot result\n",
      "\n",
      "segments = [[[i, y[i]], [i, y_[i]]] for i in range(n)]\n",
      "lc = LineCollection(segments, zorder=0)\n",
      "lc.set_array(np.ones(len(y)))\n",
      "lc.set_linewidths(0.5 * np.ones(n))\n",
      "\n",
      "fig = plt.figure()\n",
      "plt.plot(x, y, 'r.', markersize=12)\n",
      "plt.plot(x, y_, 'g.-', markersize=12)\n",
      "plt.plot(x, lr.predict(x[:, np.newaxis]), 'b-')\n",
      "plt.gca().add_collection(lc)\n",
      "plt.legend(('Data', 'Isotonic Fit', 'Linear Fit'), loc='lower right')\n",
      "plt.title('Isotonic regression')\n",
      "plt.show()\n",
      " "
     ],
     "language": "python",
     "metadata": {},
     "outputs": [
      {
       "output_type": "stream",
       "stream": "stdout",
       "text": [
        "Automatically created module for IPython interactive environment\n"
       ]
      },
      {
       "metadata": {},
       "output_type": "display_data",
       "png": "[encoded data removed]",
       "text": [
        "<matplotlib.figure.Figure at 0x107899828>"
       ]
      }
     ],
     "prompt_number": 1
    },
    {
     "cell_type": "code",
     "collapsed": false,
     "input": [
      "import numpy as np\n",
      "x = np.random.randn(100)\n",
      "y = 2*x + np.random.randn(100)\n",
      " \n",
      "%load_ext rpy2.ipython\n",
      " \n",
      "%%R -i x,y -w 500 -h 300\n",
      "df <- data.frame(x,y)\n",
      "m <- lm(y~x)\n",
      "inter <- m$coef[1]\n",
      "slop <- m$coef[2]\n",
      " \n",
      "library(ggplot2)\n",
      "p <- ggplot(df, aes(x,y))\n",
      "p <- p + \n",
      "    geom_point() +\n",
      "    geom_abline(intercept = inter, slope = slop)\n",
      "print(p)\n",
      " "
     ],
     "language": "python",
     "metadata": {},
     "outputs": [
      {
       "ename": "SyntaxError",
       "evalue": "invalid syntax (<ipython-input-1-680e1d56c2c3>, line 7)",
       "output_type": "pyerr",
       "traceback": [
        "\u001b[0;36m  File \u001b[0;32m\"<ipython-input-1-680e1d56c2c3>\"\u001b[0;36m, line \u001b[0;32m7\u001b[0m\n\u001b[0;31m    %%R -i x,y -w 500 -h 300\u001b[0m\n\u001b[0m    ^\u001b[0m\n\u001b[0;31mSyntaxError\u001b[0m\u001b[0;31m:\u001b[0m invalid syntax\n"
       ]
      }
     ],
     "prompt_number": 1
    },
    {
     "cell_type": "code",
     "collapsed": false,
     "input": [
      "# \u57fa\u4e8e\u300a\u7edf\u8ba1\u6a21\u62df\u548cR\u5b9e\u73b0\u300b\u4e00\u4e66\u4f8b\u5b50\n",
      "import numpy as np\n",
      "from numpy import random as rm\n",
      "import pandas as pd\n",
      " \n",
      "def simulation(T=4200):\n",
      "    t = 0;nA =0;nD=0;n=0;A=[];D=[];N=[];S=[]\n",
      "    tA = rm.exponential(10,1) # \u5ba2\u6765\u65f6\u95f4\n",
      "    tD = inf  # \u5ba2\u8d70\u65f6\u95f4\n",
      "    while True:\n",
      "        # print tA,tD,n,S\n",
      "        if  (tA <= tD)  & (tA <= T): # \u5ba2\u6765\u65f6\u70b9\u65e9\u4e8e\u5ba2\u8d70\u65f6\u70b9\uff0c\u4e14\u5728\u8425\u4e1a\n",
      "            t = tA # \u66f4\u65b0\u5f53\u524d\u65f6\u95f4\n",
      "            nA = nA + 1 # \u66f4\u65b0\u6765\u5ba2\u4eba\u6570\n",
      "            n = n+1 # n\u4fdd\u5b58\u670d\u52a1\u7cfb\u7edf\u4e2d\u4eba\u6570\n",
      "            tA = t + rm.exponential(10,1) # \u4ea7\u751f\u65b0\u7684\u5ba2\u6765\u65f6\u95f4\n",
      "            if n==1: # \u7cfb\u7edf\u4e2d\u53ea\u6709\u4e00\u4e2a\u5ba2\u4eba\u65f6\u624d\u66f4\u65b0tD\n",
      "                tS = rm.uniform(5,10,1)\n",
      "                tD = t + tS# \u5ba2\u8d70\u65f6\u95f4\u7b49\u4e8e\u5ba2\u8d70\u65f6\u95f4\u52a0\u670d\u52a1\u65f6\u95f4\n",
      "                S.append(tS) \n",
      "            A.append(t) # \u4fdd\u5b58\u5ba2\u6765\u65f6\u95f4\u5e8f\u5217        \n",
      "        elif (tD <= tA) & (tD <=T): #\u5982\u679c\u5ba2\u6765\u65f6\u70b9\u665a\u4e8e\u5ba2\u8d70\u65f6\u70b9\n",
      "            t = tD; n= n-1\n",
      "            nD = nD + 1\n",
      "            if n==0:  tD = inf #\u5982\u679c\u65e0\u4eba\u7b49\u5f85\n",
      "            else:  \n",
      "                tS = rm.uniform(5,10,1)\n",
      "                tD = t + tS\n",
      "                S.append(tS) # \u4fdd\u5b58\u6bcf\u4eba\u670d\u52a1\u65f6\u95f4\u957f\u5ea6\n",
      "            D.append(t) #\u4fdd\u5b58\u5ba2\u8d70\u65f6\u95f4\u5e8f\u5217\n",
      "            N.append(n) #\u4fdd\u5b58\u7cfb\u7edf\u4e2d\u4eba\u6570\u5e8f\u5217\n",
      "        elif (tA>T) & (tD>T):  break # \u8fc7\u70b9\u5173\u95e8\n",
      "    while True:\n",
      "        if n <=0:  break\n",
      "        t = tD;n=n-1;nD=nD+1 #\u8fd8\u6709\u6700\u540e\u51e0\u4e2a\u4eba\u5728\u670d\u52a1\n",
      "        D.append(t) \n",
      "        N.append(n) \n",
      "        if n>0:\n",
      "            tS = rm.uniform(5,10,1)\n",
      "            tD = t +  tS\n",
      "            S.append(tS) \n",
      "    Tp = max(t-T,0) #\u5173\u95e8\u65f6\u95f4\n",
      "    # A\u8868\u793a\u5ba2\u6765\u65f6\u70b9\uff0cD\u8868\u793a\u5ba2\u8d70\u65f6\u70b9\uff0cN\u8868\u793a\u5ba2\u8d70\u65f6\u7cfb\u7edf\u4e2d\u8fd8\u6709\u51e0\u4eba\uff0cS\u8868\u793a\u6b64\u4eba\u670d\u52a1\u65f6\u957f\n",
      "    raw = {'A':A,'D':D,'S':S,'N':N}\n",
      "    data = pd.DataFrame(raw)\n",
      "    return {'count': data.N.count(),'wcount':sum(data.N>0),'avgwait':float(mean(data.D-data.A-data.S))}\n",
      " \n",
      "# \u6a21\u62df100\u6b21\uff0c\u5c06\u7ed3\u679c\u5b58\u4e3adataframe\n",
      "res = [simulation() for i in range(100)]\n",
      "res = pd.DataFrame(res)\n",
      "res\n",
      " \n",
      "# \u753b\u51fa\u5e73\u5747\u7b49\u5f85\u65f6\u95f4\u7684\u76f4\u65b9\u56fe\n",
      "import matplotlib.pyplot  as plt\n",
      "plt.hist(res.avgwait)\n"
     ],
     "language": "python",
     "metadata": {},
     "outputs": [
      {
       "metadata": {},
       "output_type": "pyout",
       "prompt_number": 2,
       "text": [
        "(array([  9.,  21.,  23.,  24.,   7.,   6.,   6.,   2.,   1.,   1.]),\n",
        " array([  6.37757831,   8.2092031 ,  10.0408279 ,  11.87245269,\n",
        "         13.70407748,  15.53570228,  17.36732707,  19.19895186,\n",
        "         21.03057666,  22.86220145,  24.69382624]),\n",
        " <a list of 10 Patch objects>)"
       ]
      },
      {
       "metadata": {},
       "output_type": "display_data",
       "png": "[encoded data removed]",
       "text": [
        "<matplotlib.figure.Figure at 0x10938e668>"
       ]
      }
     ],
     "prompt_number": 2
    },
    {
     "cell_type": "code",
     "collapsed": false,
     "input": [],
     "language": "python",
     "metadata": {},
     "outputs": []
    }
   ],
   "metadata": {}
  }
 ]
}